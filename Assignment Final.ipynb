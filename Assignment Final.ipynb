{
 "cells": [
  {
   "cell_type": "markdown",
   "id": "e2600731",
   "metadata": {},
   "source": [
    "# Task 1\n",
    "\n",
    "## Introduction\n",
    "We will use the South German Credit dataset to determine whether someone should be given credit. The target variable is credit_risk, and individuals are assigned either a 0 (good) or 1 (bad). The cost matrix that comes with the orginial dataset reveals that it \" is worse to class a customer as good when they are bad (5), than it is to class a customer as bad when they are good (1).\" The bank therefore probably incurs a greater loss by giving money to a bad debtor than by withholding money from a good debtor. This must be taken into account when evaluating the model, as we will want fewer false negatives than false positives.\n",
    "\n",
    "It is a supervised learning task since we are given the labels (i.e. credit_risk). It is also a binary classification task, since we have two class labels. Since there is no continuous flow of data and the data is quite small, batch learning will be fine for this project.\n",
    "\n",
    "#### Importing Packages"
   ]
  },
  {
   "cell_type": "code",
   "execution_count": 1218,
   "id": "c08c2635",
   "metadata": {},
   "outputs": [],
   "source": [
    "import pandas as pd\n",
    "import numpy as np\n",
    "import matplotlib.pyplot as plt\n",
    "from sklearn.model_selection import train_test_split\n",
    "from pandas.plotting import scatter_matrix\n",
    "from sklearn.preprocessing import OneHotEncoder\n",
    "from sklearn.compose import ColumnTransformer\n",
    "from sklearn.preprocessing import StandardScaler, MinMaxScaler\n",
    "from sklearn.decomposition import PCA\n",
    "from sklearn.preprocessing import OrdinalEncoder\n",
    "from sklearn.feature_selection import SelectKBest, chi2, mutual_info_classif, f_classif\n",
    "from sklearn.feature_selection import f_regression, mutual_info_regression\n",
    "from sklearn.ensemble import RandomForestClassifier\n",
    "from sklearn.model_selection import cross_val_score\n",
    "from sklearn.model_selection import GridSearchCV\n",
    "from sklearn.ensemble import ExtraTreesClassifier\n",
    "\n",
    "\n",
    "from statistics import mean, stdev\n",
    "from sklearn.pipeline import Pipeline\n",
    "from sklearn.model_selection import RepeatedStratifiedKFold\n",
    "from sklearn.metrics import fbeta_score\n",
    "from sklearn.metrics import make_scorer\n",
    "from sklearn.linear_model import LogisticRegression\n",
    "from sklearn.discriminant_analysis import LinearDiscriminantAnalysis\n",
    "from sklearn.naive_bayes import GaussianNB\n",
    "from sklearn.gaussian_process import GaussianProcessClassifier\n",
    "from sklearn.svm import SVC\n",
    "from sklearn.dummy import DummyClassifier\n",
    "\n",
    "from imblearn.pipeline import Pipeline\n",
    "from imblearn.under_sampling import TomekLinks\n",
    "from imblearn.under_sampling import EditedNearestNeighbours\n",
    "from imblearn.under_sampling import RepeatedEditedNearestNeighbours\n",
    "from imblearn.under_sampling import NeighbourhoodCleaningRule\n",
    "from imblearn.under_sampling import OneSidedSelection\n",
    "from sklearn.linear_model import RidgeClassifier\n",
    "from imblearn.combine import SMOTEENN\n"
   ]
  },
  {
   "cell_type": "markdown",
   "id": "c20e0d74",
   "metadata": {},
   "source": [
    "## Preliminary Exploration"
   ]
  },
  {
   "cell_type": "code",
   "execution_count": 1219,
   "id": "95e05d09",
   "metadata": {},
   "outputs": [
    {
     "data": {
      "text/html": [
       "<div>\n",
       "<style scoped>\n",
       "    .dataframe tbody tr th:only-of-type {\n",
       "        vertical-align: middle;\n",
       "    }\n",
       "\n",
       "    .dataframe tbody tr th {\n",
       "        vertical-align: top;\n",
       "    }\n",
       "\n",
       "    .dataframe thead th {\n",
       "        text-align: right;\n",
       "    }\n",
       "</style>\n",
       "<table border=\"1\" class=\"dataframe\">\n",
       "  <thead>\n",
       "    <tr style=\"text-align: right;\">\n",
       "      <th></th>\n",
       "      <th>credit_risk</th>\n",
       "      <th>status</th>\n",
       "      <th>duration</th>\n",
       "      <th>credit_history</th>\n",
       "      <th>purpose</th>\n",
       "      <th>amount</th>\n",
       "      <th>savings</th>\n",
       "      <th>employment_duration</th>\n",
       "      <th>installment_rate</th>\n",
       "      <th>personal_status_sex</th>\n",
       "      <th>other_debtors</th>\n",
       "      <th>present_residence</th>\n",
       "      <th>property</th>\n",
       "      <th>age</th>\n",
       "      <th>other_installment_plans</th>\n",
       "      <th>housing</th>\n",
       "      <th>number_credits</th>\n",
       "      <th>job</th>\n",
       "      <th>people_liable</th>\n",
       "      <th>telephone</th>\n",
       "      <th>foreign_worker</th>\n",
       "    </tr>\n",
       "  </thead>\n",
       "  <tbody>\n",
       "    <tr>\n",
       "      <th>0</th>\n",
       "      <td>0</td>\n",
       "      <td>A11</td>\n",
       "      <td>6</td>\n",
       "      <td>A34</td>\n",
       "      <td>A43</td>\n",
       "      <td>1169</td>\n",
       "      <td>A65</td>\n",
       "      <td>A75</td>\n",
       "      <td>4</td>\n",
       "      <td>A93</td>\n",
       "      <td>A101</td>\n",
       "      <td>4</td>\n",
       "      <td>A121</td>\n",
       "      <td>67</td>\n",
       "      <td>A143</td>\n",
       "      <td>A152</td>\n",
       "      <td>2</td>\n",
       "      <td>A173</td>\n",
       "      <td>1</td>\n",
       "      <td>A192</td>\n",
       "      <td>A201</td>\n",
       "    </tr>\n",
       "    <tr>\n",
       "      <th>1</th>\n",
       "      <td>1</td>\n",
       "      <td>A12</td>\n",
       "      <td>48</td>\n",
       "      <td>A32</td>\n",
       "      <td>A43</td>\n",
       "      <td>5951</td>\n",
       "      <td>A61</td>\n",
       "      <td>A73</td>\n",
       "      <td>2</td>\n",
       "      <td>A92</td>\n",
       "      <td>A101</td>\n",
       "      <td>2</td>\n",
       "      <td>A121</td>\n",
       "      <td>22</td>\n",
       "      <td>A143</td>\n",
       "      <td>A152</td>\n",
       "      <td>1</td>\n",
       "      <td>A173</td>\n",
       "      <td>1</td>\n",
       "      <td>A191</td>\n",
       "      <td>A201</td>\n",
       "    </tr>\n",
       "    <tr>\n",
       "      <th>2</th>\n",
       "      <td>0</td>\n",
       "      <td>A14</td>\n",
       "      <td>12</td>\n",
       "      <td>A34</td>\n",
       "      <td>A46</td>\n",
       "      <td>2096</td>\n",
       "      <td>A61</td>\n",
       "      <td>A74</td>\n",
       "      <td>2</td>\n",
       "      <td>A93</td>\n",
       "      <td>A101</td>\n",
       "      <td>3</td>\n",
       "      <td>A121</td>\n",
       "      <td>49</td>\n",
       "      <td>A143</td>\n",
       "      <td>A152</td>\n",
       "      <td>1</td>\n",
       "      <td>A172</td>\n",
       "      <td>2</td>\n",
       "      <td>A191</td>\n",
       "      <td>A201</td>\n",
       "    </tr>\n",
       "    <tr>\n",
       "      <th>3</th>\n",
       "      <td>0</td>\n",
       "      <td>A11</td>\n",
       "      <td>42</td>\n",
       "      <td>A32</td>\n",
       "      <td>A42</td>\n",
       "      <td>7882</td>\n",
       "      <td>A61</td>\n",
       "      <td>A74</td>\n",
       "      <td>2</td>\n",
       "      <td>A93</td>\n",
       "      <td>A103</td>\n",
       "      <td>4</td>\n",
       "      <td>A122</td>\n",
       "      <td>45</td>\n",
       "      <td>A143</td>\n",
       "      <td>A153</td>\n",
       "      <td>1</td>\n",
       "      <td>A173</td>\n",
       "      <td>2</td>\n",
       "      <td>A191</td>\n",
       "      <td>A201</td>\n",
       "    </tr>\n",
       "    <tr>\n",
       "      <th>4</th>\n",
       "      <td>1</td>\n",
       "      <td>A11</td>\n",
       "      <td>24</td>\n",
       "      <td>A33</td>\n",
       "      <td>A40</td>\n",
       "      <td>4870</td>\n",
       "      <td>A61</td>\n",
       "      <td>A73</td>\n",
       "      <td>3</td>\n",
       "      <td>A93</td>\n",
       "      <td>A101</td>\n",
       "      <td>4</td>\n",
       "      <td>A124</td>\n",
       "      <td>53</td>\n",
       "      <td>A143</td>\n",
       "      <td>A153</td>\n",
       "      <td>2</td>\n",
       "      <td>A173</td>\n",
       "      <td>2</td>\n",
       "      <td>A191</td>\n",
       "      <td>A201</td>\n",
       "    </tr>\n",
       "    <tr>\n",
       "      <th>5</th>\n",
       "      <td>0</td>\n",
       "      <td>A14</td>\n",
       "      <td>36</td>\n",
       "      <td>A32</td>\n",
       "      <td>A46</td>\n",
       "      <td>9055</td>\n",
       "      <td>A65</td>\n",
       "      <td>A73</td>\n",
       "      <td>2</td>\n",
       "      <td>A93</td>\n",
       "      <td>A101</td>\n",
       "      <td>4</td>\n",
       "      <td>A124</td>\n",
       "      <td>35</td>\n",
       "      <td>A143</td>\n",
       "      <td>A153</td>\n",
       "      <td>1</td>\n",
       "      <td>A172</td>\n",
       "      <td>2</td>\n",
       "      <td>A192</td>\n",
       "      <td>A201</td>\n",
       "    </tr>\n",
       "    <tr>\n",
       "      <th>6</th>\n",
       "      <td>0</td>\n",
       "      <td>A14</td>\n",
       "      <td>24</td>\n",
       "      <td>A32</td>\n",
       "      <td>A42</td>\n",
       "      <td>2835</td>\n",
       "      <td>A63</td>\n",
       "      <td>A75</td>\n",
       "      <td>3</td>\n",
       "      <td>A93</td>\n",
       "      <td>A101</td>\n",
       "      <td>4</td>\n",
       "      <td>A122</td>\n",
       "      <td>53</td>\n",
       "      <td>A143</td>\n",
       "      <td>A152</td>\n",
       "      <td>1</td>\n",
       "      <td>A173</td>\n",
       "      <td>1</td>\n",
       "      <td>A191</td>\n",
       "      <td>A201</td>\n",
       "    </tr>\n",
       "    <tr>\n",
       "      <th>7</th>\n",
       "      <td>0</td>\n",
       "      <td>A12</td>\n",
       "      <td>36</td>\n",
       "      <td>A32</td>\n",
       "      <td>A41</td>\n",
       "      <td>6948</td>\n",
       "      <td>A61</td>\n",
       "      <td>A73</td>\n",
       "      <td>2</td>\n",
       "      <td>A93</td>\n",
       "      <td>A101</td>\n",
       "      <td>2</td>\n",
       "      <td>A123</td>\n",
       "      <td>35</td>\n",
       "      <td>A143</td>\n",
       "      <td>A151</td>\n",
       "      <td>1</td>\n",
       "      <td>A174</td>\n",
       "      <td>1</td>\n",
       "      <td>A192</td>\n",
       "      <td>A201</td>\n",
       "    </tr>\n",
       "    <tr>\n",
       "      <th>8</th>\n",
       "      <td>0</td>\n",
       "      <td>A14</td>\n",
       "      <td>12</td>\n",
       "      <td>A32</td>\n",
       "      <td>A43</td>\n",
       "      <td>3059</td>\n",
       "      <td>A64</td>\n",
       "      <td>A74</td>\n",
       "      <td>2</td>\n",
       "      <td>A91</td>\n",
       "      <td>A101</td>\n",
       "      <td>4</td>\n",
       "      <td>A121</td>\n",
       "      <td>61</td>\n",
       "      <td>A143</td>\n",
       "      <td>A152</td>\n",
       "      <td>1</td>\n",
       "      <td>A172</td>\n",
       "      <td>1</td>\n",
       "      <td>A191</td>\n",
       "      <td>A201</td>\n",
       "    </tr>\n",
       "    <tr>\n",
       "      <th>9</th>\n",
       "      <td>1</td>\n",
       "      <td>A12</td>\n",
       "      <td>30</td>\n",
       "      <td>A34</td>\n",
       "      <td>A40</td>\n",
       "      <td>5234</td>\n",
       "      <td>A61</td>\n",
       "      <td>A71</td>\n",
       "      <td>4</td>\n",
       "      <td>A94</td>\n",
       "      <td>A101</td>\n",
       "      <td>2</td>\n",
       "      <td>A123</td>\n",
       "      <td>28</td>\n",
       "      <td>A143</td>\n",
       "      <td>A152</td>\n",
       "      <td>2</td>\n",
       "      <td>A174</td>\n",
       "      <td>1</td>\n",
       "      <td>A191</td>\n",
       "      <td>A201</td>\n",
       "    </tr>\n",
       "  </tbody>\n",
       "</table>\n",
       "</div>"
      ],
      "text/plain": [
       "   credit_risk status  duration credit_history purpose  amount savings  \\\n",
       "0            0    A11         6            A34     A43    1169     A65   \n",
       "1            1    A12        48            A32     A43    5951     A61   \n",
       "2            0    A14        12            A34     A46    2096     A61   \n",
       "3            0    A11        42            A32     A42    7882     A61   \n",
       "4            1    A11        24            A33     A40    4870     A61   \n",
       "5            0    A14        36            A32     A46    9055     A65   \n",
       "6            0    A14        24            A32     A42    2835     A63   \n",
       "7            0    A12        36            A32     A41    6948     A61   \n",
       "8            0    A14        12            A32     A43    3059     A64   \n",
       "9            1    A12        30            A34     A40    5234     A61   \n",
       "\n",
       "  employment_duration  installment_rate personal_status_sex other_debtors  \\\n",
       "0                 A75                 4                 A93          A101   \n",
       "1                 A73                 2                 A92          A101   \n",
       "2                 A74                 2                 A93          A101   \n",
       "3                 A74                 2                 A93          A103   \n",
       "4                 A73                 3                 A93          A101   \n",
       "5                 A73                 2                 A93          A101   \n",
       "6                 A75                 3                 A93          A101   \n",
       "7                 A73                 2                 A93          A101   \n",
       "8                 A74                 2                 A91          A101   \n",
       "9                 A71                 4                 A94          A101   \n",
       "\n",
       "   present_residence property  age other_installment_plans housing  \\\n",
       "0                  4     A121   67                    A143    A152   \n",
       "1                  2     A121   22                    A143    A152   \n",
       "2                  3     A121   49                    A143    A152   \n",
       "3                  4     A122   45                    A143    A153   \n",
       "4                  4     A124   53                    A143    A153   \n",
       "5                  4     A124   35                    A143    A153   \n",
       "6                  4     A122   53                    A143    A152   \n",
       "7                  2     A123   35                    A143    A151   \n",
       "8                  4     A121   61                    A143    A152   \n",
       "9                  2     A123   28                    A143    A152   \n",
       "\n",
       "   number_credits   job  people_liable telephone foreign_worker  \n",
       "0               2  A173              1      A192           A201  \n",
       "1               1  A173              1      A191           A201  \n",
       "2               1  A172              2      A191           A201  \n",
       "3               1  A173              2      A191           A201  \n",
       "4               2  A173              2      A191           A201  \n",
       "5               1  A172              2      A192           A201  \n",
       "6               1  A173              1      A191           A201  \n",
       "7               1  A174              1      A192           A201  \n",
       "8               1  A172              1      A191           A201  \n",
       "9               2  A174              1      A191           A201  "
      ]
     },
     "execution_count": 1219,
     "metadata": {},
     "output_type": "execute_result"
    }
   ],
   "source": [
    "credit = pd.read_csv(\"credit\")\n",
    "\n",
    "credit.head(10)"
   ]
  },
  {
   "cell_type": "markdown",
   "id": "51e31400",
   "metadata": {},
   "source": [
    "The categorical variables take an Axxx format. One-hot encoding of these variables is therefore necessary.\n",
    "\n",
    "The numerical columns have different scales and will therefore need to be scaled.\n",
    "\n",
    "The class contains values of 0 and 1, where 0 is 'good' (negative class) and 1 is 'bad' (positive class)."
   ]
  },
  {
   "cell_type": "code",
   "execution_count": 1220,
   "id": "ec6db2e3",
   "metadata": {},
   "outputs": [
    {
     "data": {
      "text/plain": [
       "(1000, 21)"
      ]
     },
     "execution_count": 1220,
     "metadata": {},
     "output_type": "execute_result"
    }
   ],
   "source": [
    "credit.shape"
   ]
  },
  {
   "cell_type": "markdown",
   "id": "51da8d90",
   "metadata": {},
   "source": [
    "There are 1,000 rows, 20 attributes, and 1 target variable."
   ]
  },
  {
   "cell_type": "code",
   "execution_count": 1221,
   "id": "50174c8e",
   "metadata": {},
   "outputs": [
    {
     "data": {
      "text/plain": [
       "0    700\n",
       "1    300\n",
       "Name: credit_risk, dtype: int64"
      ]
     },
     "execution_count": 1221,
     "metadata": {},
     "output_type": "execute_result"
    },
    {
     "data": {
      "image/png": "[encoded data removed]",
      "text/plain": [
       "<Figure size 432x288 with 1 Axes>"
      ]
     },
     "metadata": {
      "needs_background": "light"
     },
     "output_type": "display_data"
    }
   ],
   "source": [
    "credit.hist(column=\"credit_risk\", grid=False, color='#86bf91', bins=3)\n",
    "\n",
    "credit[\"credit_risk\"].value_counts()"
   ]
  },
  {
   "cell_type": "markdown",
   "id": "f98406e3",
   "metadata": {},
   "source": [
    "The class distribution is 70% negative and 30% positive."
   ]
  },
  {
   "cell_type": "code",
   "execution_count": 1222,
   "id": "c6933c5c",
   "metadata": {},
   "outputs": [
    {
     "name": "stdout",
     "output_type": "stream",
     "text": [
      "<class 'pandas.core.frame.DataFrame'>\n",
      "RangeIndex: 1000 entries, 0 to 999\n",
      "Data columns (total 21 columns):\n",
      " #   Column                   Non-Null Count  Dtype \n",
      "---  ------                   --------------  ----- \n",
      " 0   credit_risk              1000 non-null   int64 \n",
      " 1   status                   1000 non-null   object\n",
      " 2   duration                 1000 non-null   int64 \n",
      " 3   credit_history           1000 non-null   object\n",
      " 4   purpose                  1000 non-null   object\n",
      " 5   amount                   1000 non-null   int64 \n",
      " 6   savings                  1000 non-null   object\n",
      " 7   employment_duration      1000 non-null   object\n",
      " 8   installment_rate         1000 non-null   int64 \n",
      " 9   personal_status_sex      1000 non-null   object\n",
      " 10  other_debtors            1000 non-null   object\n",
      " 11  present_residence        1000 non-null   int64 \n",
      " 12  property                 1000 non-null   object\n",
      " 13  age                      1000 non-null   int64 \n",
      " 14  other_installment_plans  1000 non-null   object\n",
      " 15  housing                  1000 non-null   object\n",
      " 16  number_credits           1000 non-null   int64 \n",
      " 17  job                      1000 non-null   object\n",
      " 18  people_liable            1000 non-null   int64 \n",
      " 19  telephone                1000 non-null   object\n",
      " 20  foreign_worker           1000 non-null   object\n",
      "dtypes: int64(8), object(13)\n",
      "memory usage: 164.2+ KB\n"
     ]
    }
   ],
   "source": [
    "credit.info()"
   ]
  },
  {
   "cell_type": "markdown",
   "id": "5bb79d1e",
   "metadata": {},
   "source": [
    "There are no duplicate values, nor missing values.\n",
    "\n",
    "Although the dataset is imbalanced and contains more 'good' than 'bad', with 300 instances of 'bad', there is enough to perform a machine learning model. However, we will have to account for this imbalance.\n",
    "\n",
    "Ostensibly, there are are seven numeric variables, but some of these are actually categorical variables in discrete numeric form."
   ]
  },
  {
   "cell_type": "markdown",
   "id": "f96532b0",
   "metadata": {},
   "source": [
    "### X and y "
   ]
  },
  {
   "cell_type": "code",
   "execution_count": 1223,
   "id": "66d4baf7",
   "metadata": {},
   "outputs": [],
   "source": [
    "# stratified split\n",
    "y = credit[\"credit_risk\"]\n",
    "X = credit.drop(\"credit_risk\", axis=1)"
   ]
  },
  {
   "cell_type": "markdown",
   "id": "86a5445a",
   "metadata": {},
   "source": [
    "Let's look at the continuous attributes:"
   ]
  },
  {
   "cell_type": "code",
   "execution_count": 1224,
   "id": "b79c90f5",
   "metadata": {},
   "outputs": [
    {
     "data": {
      "image/png": "[encoded data removed]",
      "text/plain": [
       "<Figure size 1080x720 with 4 Axes>"
      ]
     },
     "metadata": {
      "needs_background": "light"
     },
     "output_type": "display_data"
    }
   ],
   "source": [
    "continuous_attributes = ['age', 'amount','duration']\n",
    "X.hist(continuous_attributes, bins=30, figsize=(15,10))\n",
    "plt.show()"
   ]
  },
  {
   "cell_type": "markdown",
   "id": "e9a87aa8",
   "metadata": {},
   "source": [
    "We may need to transform some of the continuous variables since they are somewhat tail-heavy. "
   ]
  },
  {
   "cell_type": "markdown",
   "id": "d1fd3814",
   "metadata": {},
   "source": [
    "### Attribute Selection"
   ]
  },
  {
   "cell_type": "code",
   "execution_count": 1225,
   "id": "5438c064",
   "metadata": {},
   "outputs": [
    {
     "data": {
      "image/png": "[encoded data removed]",
      "text/plain": [
       "<Figure size 432x288 with 1 Axes>"
      ]
     },
     "metadata": {
      "needs_background": "light"
     },
     "output_type": "display_data"
    },
    {
     "data": {
      "image/png": "[encoded data removed]",
      "text/plain": [
       "<Figure size 432x288 with 1 Axes>"
      ]
     },
     "metadata": {
      "needs_background": "light"
     },
     "output_type": "display_data"
    }
   ],
   "source": [
    "# selecting numeric attributes\n",
    "num_cols = X[[\"duration\", \"age\", \"amount\"]]\n",
    "\n",
    "# standardizing\n",
    "scaler = StandardScaler()\n",
    "X_num_scaled = scaler.fit_transform(num_cols)\n",
    "\n",
    "score_functions = [f_regression, mutual_info_regression]\n",
    "for i in score_functions:\n",
    "    fs_top = SelectKBest(score_func=i, k=\"all\")\n",
    "    fs_top.fit_transform(X_num_scaled, y)\n",
    "    \n",
    "    # creating dictionary with att names and respective scores\n",
    "    scores = {}\n",
    "    for n, s in zip([\"duration\", \"age\", \"amount\"], fs_top.scores_):\n",
    "        scores[n] = s\n",
    "        \n",
    "    plt.bar(range(len(scores)), list(scores.values()), align='center')\n",
    "    plt.xticks(range(len(scores)), list(scores.keys())) \n",
    "    plt.show()\n"
   ]
  },
  {
   "cell_type": "markdown",
   "id": "03ba1c53",
   "metadata": {},
   "source": [
    "Let's try with the ExtraTreesClassifier:"
   ]
  },
  {
   "cell_type": "code",
   "execution_count": 1226,
   "id": "74ed810b",
   "metadata": {
    "scrolled": true
   },
   "outputs": [
    {
     "name": "stdout",
     "output_type": "stream",
     "text": [
      "['age', 'duration', 'amount']\n",
      "[0.30000833 0.17395892 0.52603274]\n"
     ]
    }
   ],
   "source": [
    "continuous_features = [\"age\", \"duration\", \"amount\"]\n",
    "# feature extraction\n",
    "model = ExtraTreesClassifier(n_estimators=10)\n",
    "model.fit(X[continuous_features], y)\n",
    "print(continuous_features)\n",
    "print(model.feature_importances_)"
   ]
  },
  {
   "cell_type": "markdown",
   "id": "09080e07",
   "metadata": {},
   "source": [
    "Based on these three scores, 'amount is clearly the most important, followed by 'duration' and then 'age'. We will try a model that only uses 'amount' as a continuous attribute.\n",
    "\n",
    "For the categorical attributes, we will use chi-squared."
   ]
  },
  {
   "cell_type": "code",
   "execution_count": 1227,
   "id": "e8844faa",
   "metadata": {},
   "outputs": [
    {
     "name": "stdout",
     "output_type": "stream",
     "text": [
      "status: 123.333665\n",
      "credit_history: 24.103752\n",
      "purpose: 0.005246\n",
      "savings: 72.269985\n",
      "employment_duration: 8.232742\n",
      "personal_status_sex: 2.315724\n",
      "other_debtors: 0.993432\n",
      "property: 16.501718\n",
      "other_installment_plans: 3.582800\n",
      "housing: 0.113230\n",
      "job: 0.240196\n",
      "telephone: 0.792551\n",
      "foreign_worker: 6.487773\n"
     ]
    },
    {
     "data": {
      "image/png": "[encoded data removed]",
      "text/plain": [
       "<Figure size 432x288 with 1 Axes>"
      ]
     },
     "metadata": {
      "needs_background": "light"
     },
     "output_type": "display_data"
    }
   ],
   "source": [
    "# selecting categorical attributes\n",
    "cat_cols = list(X.select_dtypes(include=['object']))\n",
    "\n",
    "# encoding categorical variables\n",
    "encoder_pipe = ColumnTransformer([\n",
    "    (\"cat\", OrdinalEncoder(), cat_cols)\n",
    "])\n",
    "X_encoded = encoder_pipe.fit_transform(X)\n",
    "\n",
    "# chi-squared\n",
    "fs = SelectKBest(score_func=chi2, k='all')\n",
    "fs.fit(X_encoded, y)\n",
    "\n",
    "# ranking features\n",
    "for i, f in zip(range(len(fs.scores_)), cat_cols):\n",
    "    print('%s: %f' % (f, fs.scores_[i]))\n",
    "\n",
    "plt.bar([i for i in range(len(fs.scores_))], fs.scores_)\n",
    "plt.show()"
   ]
  },
  {
   "cell_type": "markdown",
   "id": "4599b066",
   "metadata": {},
   "source": [
    "Based on chi-squared, the most important categorical attributes appear to be 'status', 'credit_history', 'savings', 'employment_duration', 'property', 'other_installments' and 'foreign_worker'."
   ]
  },
  {
   "cell_type": "code",
   "execution_count": 1228,
   "id": "50b97636",
   "metadata": {},
   "outputs": [
    {
     "name": "stdout",
     "output_type": "stream",
     "text": [
      "status: 0.046572\n",
      "credit_history: 0.049171\n",
      "purpose: 0.025391\n",
      "savings: 0.036948\n",
      "employment_duration: 0.000000\n",
      "personal_status_sex: 0.000000\n",
      "other_debtors: 0.000000\n",
      "property: 0.019049\n",
      "other_installment_plans: 0.019440\n",
      "housing: 0.036695\n",
      "job: 0.000000\n",
      "telephone: 0.009730\n",
      "foreign_worker: 0.002468\n"
     ]
    },
    {
     "data": {
      "image/png": "[encoded data removed]",
      "text/plain": [
       "<Figure size 432x288 with 1 Axes>"
      ]
     },
     "metadata": {
      "needs_background": "light"
     },
     "output_type": "display_data"
    },
    {
     "name": "stdout",
     "output_type": "stream",
     "text": [
      "status: 140.092281\n",
      "credit_history: 55.123045\n",
      "purpose: 0.002289\n",
      "savings: 33.013573\n",
      "employment_duration: 13.612739\n",
      "personal_status_sex: 7.821743\n",
      "other_debtors: 0.630992\n",
      "property: 20.718883\n",
      "other_installment_plans: 12.188660\n",
      "housing: 0.372463\n",
      "job: 1.070584\n",
      "telephone: 1.328891\n",
      "foreign_worker: 6.769174\n"
     ]
    },
    {
     "data": {
      "image/png": "[encoded data removed]",
      "text/plain": [
       "<Figure size 432x288 with 1 Axes>"
      ]
     },
     "metadata": {
      "needs_background": "light"
     },
     "output_type": "display_data"
    }
   ],
   "source": [
    "score_functions = [mutual_info_classif, f_classif]\n",
    "\n",
    "for fun in score_functions:\n",
    "    \n",
    "    fs = SelectKBest(score_func=fun, k='all')\n",
    "    fs.fit(X_encoded, y)\n",
    "\n",
    "    # ranking features\n",
    "    for i, f in zip(range(len(fs.scores_)), cat_cols):\n",
    "        print('%s: %f' % (f, fs.scores_[i]))\n",
    "\n",
    "    plt.bar([i for i in range(len(fs.scores_))], fs.scores_)\n",
    "    plt.show()"
   ]
  },
  {
   "cell_type": "markdown",
   "id": "a3a0826d",
   "metadata": {},
   "source": [
    "The ANOVA F-value (second chart) appears very similar to the chi-squared results, while mutual information gives slightly different results. Overall, sticking with the chi-squared attributes seems about right:"
   ]
  },
  {
   "cell_type": "code",
   "execution_count": 1229,
   "id": "41614a22",
   "metadata": {},
   "outputs": [],
   "source": [
    "X = X[['status','credit_history','purpose','savings','employment_duration',\n",
    " 'personal_status_sex','other_debtors','property','other_installment_plans','housing','foreign_worker',\n",
    " 'age', 'amount', 'duration']]"
   ]
  },
  {
   "cell_type": "markdown",
   "id": "53998bac",
   "metadata": {},
   "source": [
    "### Encoding & Scaling\n",
    "\n",
    "Of our selected attributes, two are ordinal: 'employment_duration' and 'property'. These will be ordinal encoded while the rest will be one hot encoded. The highest scoring continuous variables, 'amount' and 'duration' will also be min max scaled."
   ]
  },
  {
   "cell_type": "code",
   "execution_count": 1230,
   "id": "ffcaaf5a",
   "metadata": {},
   "outputs": [],
   "source": [
    "# selecting features\n",
    "ord_atts = [\"employment_duration\", \"property\"]\n",
    "nom_atts = ['status','credit_history','purpose','savings', 'personal_status_sex','other_debtors','other_installment_plans','housing','foreign_worker']\n",
    "cont_atts = [\"age\", \"amount\", \"duration\"]\n",
    "\n",
    "# encoding with ColumnTransformer\n",
    "ct = ColumnTransformer([\n",
    "    (\"scaler\", MinMaxScaler(), cont_atts),\n",
    "    (\"1hot\", OneHotEncoder(), nom_atts),\n",
    "    (\"ordinal\", OrdinalEncoder(), ord_atts)], remainder=\"passthrough\")\n",
    "X_transformed = ct.fit_transform(X)"
   ]
  },
  {
   "cell_type": "markdown",
   "id": "73ce4271",
   "metadata": {},
   "source": [
    "## Model Evaluation\n",
    "\n",
    "### Baseline Model\n",
    "We need an f2 score first:"
   ]
  },
  {
   "cell_type": "code",
   "execution_count": 1231,
   "id": "fa6f1947",
   "metadata": {},
   "outputs": [],
   "source": [
    "# calculate f2 score\n",
    "def f2_score(y_true, y_pred):\n",
    "    return fbeta_score(y_true, y_pred, beta=2)"
   ]
  },
  {
   "cell_type": "markdown",
   "id": "38678888",
   "metadata": {},
   "source": [
    "We next need a function will evaluate a given model and return the F2 scores:"
   ]
  },
  {
   "cell_type": "code",
   "execution_count": 1232,
   "id": "83c87e2e",
   "metadata": {},
   "outputs": [],
   "source": [
    "def evaluate_model(X, y, model):\n",
    "    # cross validation procedure\n",
    "    cv = RepeatedStratifiedKFold(n_splits=10, n_repeats=3, random_state=1)\n",
    "    \n",
    "    # evaluation metric\n",
    "    metric = make_scorer(f2_score)\n",
    "    \n",
    "    # evaluating the model\n",
    "    scores = cross_val_score(model, X, y, scoring=metric, cv=cv, n_jobs=-1)\n",
    "    return scores\n",
    "\n",
    "# code copied from https://machinelearningmastery.com/imbalanced-classification-of-good-and-bad-credit/"
   ]
  },
  {
   "cell_type": "markdown",
   "id": "cf78d312",
   "metadata": {},
   "source": [
    "Evaluating the baseline model:"
   ]
  },
  {
   "cell_type": "code",
   "execution_count": 1233,
   "id": "ec6703f0",
   "metadata": {},
   "outputs": [
    {
     "name": "stdout",
     "output_type": "stream",
     "text": [
      "Mean F2: 0.682 (0.000)\n"
     ]
    }
   ],
   "source": [
    "# defining dummy model\n",
    "model = DummyClassifier(strategy='constant', constant=1)\n",
    "\n",
    "# evaluating the model\n",
    "scores = evaluate_model(X, y, model)\n",
    "\n",
    "# summarize performance\n",
    "print('Mean F2: %.3f (%.3f)' % (mean(scores), stdev(scores)))"
   ]
  },
  {
   "cell_type": "markdown",
   "id": "b6856d47",
   "metadata": {},
   "source": [
    "So we need to do better than an F2-score of 0.68.\n",
    "\n",
    "### Evaluating Different Models"
   ]
  },
  {
   "cell_type": "code",
   "execution_count": 1234,
   "id": "27cafc3d",
   "metadata": {},
   "outputs": [
    {
     "name": "stdout",
     "output_type": "stream",
     "text": [
      ">LR 0.492 (0.077)\n",
      ">LDA 0.517 (0.078)\n",
      ">NB 0.651 (0.044)\n",
      ">GPC 0.330 (0.067)\n",
      ">SVM 0.433 (0.078)\n",
      ">RF 0.472 (0.096)\n",
      ">RG 0.487 (0.085)\n"
     ]
    }
   ],
   "source": [
    "def define_models():\n",
    "    models, names = list(), list()\n",
    "    \n",
    "    # Logistic Regression\n",
    "    models.append(LogisticRegression(solver='liblinear'))\n",
    "    names.append('LR')\n",
    "    \n",
    "    # Linear Discrimination Analysis\n",
    "    models.append(LinearDiscriminantAnalysis())\n",
    "    names.append('LDA')\n",
    "    \n",
    "    # Naive Bayes\n",
    "    models.append(GaussianNB())\n",
    "    names.append('NB')\n",
    "    \n",
    "    # Gaussian Process Classification\n",
    "    models.append(GaussianProcessClassifier())\n",
    "    names.append('GPC')\n",
    "    \n",
    "    # Support Vector Machine\n",
    "    models.append(SVC(gamma='scale'))\n",
    "    names.append('SVM')\n",
    "    \n",
    "    # Random Forest\n",
    "    models.append(RandomForestClassifier())\n",
    "    names.append('RF')\n",
    "    \n",
    "    # Ridge Classifier\n",
    "    models.append(RidgeClassifier())\n",
    "    names.append('RG')\n",
    "    \n",
    "    return models, names\n",
    "\n",
    "    \n",
    "models, names = define_models()\n",
    "\n",
    "# evaluating each model\n",
    "for i in range(len(models)):\n",
    "    scores = evaluate_model(X_transformed, y, models[i])\n",
    "    \n",
    "    # summarize and store\n",
    "    print('>%s %.3f (%.3f)' % (names[i], mean(scores), stdev(scores)))\n",
    "    \n",
    "# code adapted from https://machinelearningmastery.com/imbalanced-classification-of-good-and-bad-credit/"
   ]
  },
  {
   "cell_type": "markdown",
   "id": "32b9e9e3",
   "metadata": {},
   "source": [
    "All of these models performed worse than the base model"
   ]
  },
  {
   "cell_type": "markdown",
   "id": "54af1e0f",
   "metadata": {},
   "source": [
    "### Hyperperameter tuning\n",
    "We are going to go with Naive Bayes, Random Forest, and Ridge Classifier."
   ]
  },
  {
   "cell_type": "code",
   "execution_count": 1301,
   "id": "0d6de92c",
   "metadata": {},
   "outputs": [
    {
     "data": {
      "text/plain": [
       "RidgeClassifier(alpha=0, random_state=42, solver='svd')"
      ]
     },
     "execution_count": 1301,
     "metadata": {},
     "output_type": "execute_result"
    }
   ],
   "source": [
    "params_Ridge = {'alpha': [1,0.1,0.01,0.001,0.0001,0] , \"fit_intercept\": [True, False], \"solver\": ['svd', 'cholesky', 'lsqr', 'sparse_cg', 'sag', 'saga']}\n",
    "\n",
    "ftwo_scorer = make_scorer(fbeta_score, beta=2)\n",
    "\n",
    "estimator = RidgeClassifier(random_state=42)\n",
    "\n",
    "\n",
    "grid = GridSearchCV(estimator, params_Ridge, scoring=ftwo_scorer)\n",
    "grid.fit(X_transformed, y)\n",
    "grid.best_estimator_"
   ]
  },
  {
   "cell_type": "code",
   "execution_count": 1302,
   "id": "5b7497fb",
   "metadata": {},
   "outputs": [
    {
     "data": {
      "text/plain": [
       "RandomForestClassifier(max_features=0.7, min_samples_split=6, n_estimators=50,\n",
       "                       random_state=42)"
      ]
     },
     "execution_count": 1302,
     "metadata": {},
     "output_type": "execute_result"
    }
   ],
   "source": [
    "from sklearn.metrics import make_scorer\n",
    "\n",
    "ftwo_scorer = make_scorer(fbeta_score, beta=2)\n",
    "\n",
    "estimator = RandomForestClassifier(random_state=42)\n",
    "model_params = {\n",
    "    'n_estimators' : [25, 50, 100, 150, 300],\n",
    "    'max_features': [0.1, 0.2, 0.3, 0.4, 0.5, 0.6, 0.7],\n",
    "    'min_samples_split': [2, 3, 4, 6]\n",
    "}\n",
    "\n",
    "\n",
    "grid = GridSearchCV(estimator, model_params, scoring=ftwo_scorer)\n",
    "grid.fit(X_transformed, y)\n",
    "grid.best_estimator_"
   ]
  },
  {
   "cell_type": "markdown",
   "id": "9050cd5b",
   "metadata": {},
   "source": [
    "Optimal parameters: max_features=0.7, min_samples_split=6, n_estimators=25, random_state=42"
   ]
  },
  {
   "cell_type": "markdown",
   "id": "305602c0",
   "metadata": {},
   "source": [
    "### Precision & Recall for NB, RF, and RG"
   ]
  },
  {
   "cell_type": "code",
   "execution_count": 1256,
   "id": "e7406fdf",
   "metadata": {
    "scrolled": true
   },
   "outputs": [
    {
     "name": "stdout",
     "output_type": "stream",
     "text": [
      "Naive Bayes scores.\n",
      "precision score: 0.49003490731601973\n",
      "recall score: 0.72\n"
     ]
    }
   ],
   "source": [
    "naive_bayes = GaussianNB()\n",
    "naive_bayes_clf = naive_bayes.fit(X_transformed, y) \n",
    "print(\"Naive Bayes scores\")\n",
    "for i in [\"precision\", \"recall\"]:\n",
    "    score = mean(cross_val_score(naive_bayes_clf, X_transformed, y, scoring=i, cv=cv, n_jobs=-1))\n",
    "    print(f\"%s score:\" % (i), score)"
   ]
  },
  {
   "cell_type": "code",
   "execution_count": 1259,
   "id": "cf04cf56",
   "metadata": {
    "scrolled": true
   },
   "outputs": [
    {
     "name": "stdout",
     "output_type": "stream",
     "text": [
      "Random Forest scores\n",
      "precision score: 0.6127312076809813\n",
      "recall score: 0.48\n"
     ]
    }
   ],
   "source": [
    "rf = RandomForestClassifier(max_features=0.7, min_samples_split=6, n_estimators=25, random_state=42)\n",
    "rf_clf = rf.fit(X_transformed, y) \n",
    "print(\"Random Forest scores\")\n",
    "for i in [\"precision\", \"recall\"]:\n",
    "    score = mean(cross_val_score(rf_clf, X_transformed, y, scoring=i, cv=cv, n_jobs=-1))\n",
    "    print(f\"%s score:\" % (i), score)"
   ]
  },
  {
   "cell_type": "code",
   "execution_count": 1274,
   "id": "d0d748b4",
   "metadata": {
    "scrolled": true
   },
   "outputs": [
    {
     "name": "stdout",
     "output_type": "stream",
     "text": [
      "Ridge Classifier scores\n",
      "precision score: 0.6502115459194026\n",
      "recall score: 0.4611111111111111\n"
     ]
    }
   ],
   "source": [
    "rg = RidgeClassifier(alpha=0.3)\n",
    "rg_clf = rg.fit(X_transformed, y) \n",
    "print(\"Ridge Classifier scores\")\n",
    "for i in [\"precision\", \"recall\"]:\n",
    "    score = mean(cross_val_score(rg_clf, X_transformed, y, scoring=i, cv=cv, n_jobs=-1))\n",
    "    print(f\"%s score:\" % (i), score)"
   ]
  },
  {
   "cell_type": "markdown",
   "id": "95e0a113",
   "metadata": {},
   "source": [
    "### Undersampling"
   ]
  },
  {
   "cell_type": "code",
   "execution_count": 1283,
   "id": "a90634f2",
   "metadata": {},
   "outputs": [],
   "source": [
    "# define undersampling models to test\n",
    "def undersampling_methods():\n",
    "    models, names = list(), list()\n",
    "    # TL\n",
    "    models.append(TomekLinks())\n",
    "    names.append('TL')\n",
    "\n",
    "    # OSS\n",
    "    models.append(OneSidedSelection())\n",
    "    names.append('OSS')\n",
    "    \n",
    "    # NCR\n",
    "    models.append(NeighbourhoodCleaningRule())\n",
    "    names.append('NCR')\n",
    "    \n",
    "    return models, names\n",
    "\n",
    "# code adapted from https://machinelearningmastery.com/imbalanced-classification-of-good-and-bad-credit/"
   ]
  },
  {
   "cell_type": "code",
   "execution_count": 1284,
   "id": "e39255e1",
   "metadata": {
    "scrolled": false
   },
   "outputs": [
    {
     "name": "stdout",
     "output_type": "stream",
     "text": [
      ">TL 0.668 (0.044)\n",
      ">OSS 0.667 (0.045)\n",
      ">NCR 0.698 (0.044)\n"
     ]
    }
   ],
   "source": [
    "models, names = undersampling_methods()\n",
    "    \n",
    "for i in range(len(models)):\n",
    "    # define model to evaluate\n",
    "    model = GaussianNB()\n",
    "    \n",
    "    # scale, then undersample, then fit model\n",
    "    pipeline = Pipeline(steps=[('s', models[i]), ('m',model)])\n",
    "    \n",
    "    # evaluate the model and store results\n",
    "    scores = evaluate_model(X_transformed, y, pipeline)\n",
    "    results.append(scores)\n",
    "    \n",
    "    # summarize and store\n",
    "    print('>%s %.3f (%.3f)' % (names[i], mean(scores), stdev(scores)))\n",
    "\n",
    "# code adapted from https://machinelearningmastery.com/imbalanced-classification-of-good-and-bad-credit/"
   ]
  },
  {
   "cell_type": "code",
   "execution_count": 1287,
   "id": "66bc3b65",
   "metadata": {},
   "outputs": [],
   "source": [
    "from sklearn.model_selection import cross_val_predict\n",
    "from sklearn.metrics import confusion_matrix\n",
    "\n",
    "model = GaussianNB()\n",
    "\n",
    "pipeline = Pipeline(steps=[('s', NeighbourhoodCleaningRule()), ('m',model)])\n",
    "\n",
    "y_pred = cross_val_predict(pipeline, X_transformed, y, cv=10)\n",
    "\n",
    "conf_mat = confusion_matrix(y, y_pred)"
   ]
  },
  {
   "cell_type": "code",
   "execution_count": 1299,
   "id": "b37254d4",
   "metadata": {
    "scrolled": true
   },
   "outputs": [
    {
     "data": {
      "image/png": "[encoded data removed]",
      "text/plain": [
       "<Figure size 432x288 with 1 Axes>"
      ]
     },
     "metadata": {},
     "output_type": "display_data"
    }
   ],
   "source": [
    "import seaborn as sn\n",
    "\n",
    "df_cm = pd.DataFrame(conf_mat, range(2), range(2))\n",
    "# plt.figure(figsize=(10,7))\n",
    "sn.set(font_scale=1.4) # for label size\n",
    "sn.heatmap(df_cm, annot=True, annot_kws={\"size\": 16}, fmt='g', cbar=False, cmap=\"Blues\") # font size\n",
    "\n",
    "plt.show()"
   ]
  }
 ],
 "metadata": {
  "kernelspec": {
   "display_name": "ml_assignment",
   "language": "python",
   "name": "ml_assignment"
  },
  "language_info": {
   "codemirror_mode": {
    "name": "ipython",
    "version": 3
   },
   "file_extension": ".py",
   "mimetype": "text/x-python",
   "name": "python",
   "nbconvert_exporter": "python",
   "pygments_lexer": "ipython3",
   "version": "3.9.7"
  }
 },
 "nbformat": 4,
 "nbformat_minor": 5
}
